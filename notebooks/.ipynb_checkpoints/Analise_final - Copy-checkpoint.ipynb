{
 "cells": [
  {
   "cell_type": "markdown",
   "id": "e262149a-9262-4266-96ea-590b653a206b",
   "metadata": {},
   "source": [
    "# Análise temporal COVID-19 Brasil "
   ]
  },
  {
   "cell_type": "markdown",
   "id": "67dc1097-f943-4e66-96df-fa174f982813",
   "metadata": {},
   "source": [
    "# Escopo do projeto"
   ]
  },
  {
   "cell_type": "markdown",
   "id": "067cd3c3-1267-4a59-a7e0-f6d5e3c928fa",
   "metadata": {},
   "source": [
    "* __1-Introdução__\n",
    "* __2-Importação dos pacotes__\n",
    "* __3-Funções__\n",
    "* __4-Limpeza dos dados brutos__\n",
    "* __5-Leitura dos dados limpos__\n",
    "* __6-Hipóteses__\n",
    "* __7-Visualização dos dados__\n",
    "* __8-Modelo do Prophet__\n",
    "* __9-Conclusões__"
   ]
  },
  {
   "cell_type": "markdown",
   "id": "33f1b09f-895f-47cf-a1c9-642de2d7b8d5",
   "metadata": {},
   "source": [
    "# 1 - Introdução"
   ]
  },
  {
   "cell_type": "markdown",
   "id": "9f9324a2-c568-45ac-9996-b37704e059ca",
   "metadata": {},
   "source": [
    "A pandemia causada pelo novo coronavírus (SARS-CoV-2) está sendo responsável por diversos desafios e adversidades dia após dia enfrentados pela área da saúde no mundo. No Brasil, esse vírus, levou o país a uma crise sanitária por conta de sua rápida trasmissão por todo o país, afetando a vida de milhões de pessoas. Dentre essas pessoas estão aquelas responsáveis por fornecer os cuidados e os tratamentos responsáveis por salvar vidas, e, como o Brasil é o quinto maior país do mundo e, segundo estimativas da ONU, é a sexta maior população mundial, o controle de um vírus com essas características se torna muito mais complicado."
   ]
  },
  {
   "cell_type": "markdown",
   "id": "4ea5e354-acf5-4050-8d9d-05881dbc9660",
   "metadata": {},
   "source": [
    "Pensando nisso, a análise teve como objetivo encontrar padrões nas notificações dos casos e óbitos por COVID-19, tentando entender se existe alguma forma de prever os dias onde a demanda de profissionais de saúde e de recursos precisa ser maior."
   ]
  },
  {
   "cell_type": "markdown",
   "id": "b3f92135-ad4d-4a91-aeaa-4797500a1ef9",
   "metadata": {},
   "source": [
    "### __Séries Temporais__"
   ]
  },
  {
   "cell_type": "markdown",
   "id": "58475183-0e18-4ea2-835f-31d6b66d0ae0",
   "metadata": {},
   "source": [
    "Uma série temporal é uma observação de uma variável ao longo do tempo, ao se analisar uma série temporal devemos procurar se existe alguma dependência da variável e do período temporal e tentar achar os possíveis padrões.Muitas vezes, se encontrados esses padrões, podemos descrever uma série temporal através de funções matemáticas que podem ser úteis nas tomadas de decisões. "
   ]
  },
  {
   "cell_type": "markdown",
   "id": "81baa8b8-7092-4dad-82de-f4a6d24cfcf3",
   "metadata": {},
   "source": [
    "No contexto da COVID-19, se analisarmos os números de casos e óbitos em relação ao dia de notificação podemos considerar esses dados constituindo uma série temporal e, a partir disso, usar técnicas apropriadas a esse tipo de dados para tentar descrever seu comportamento ao decorrer do tempo."
   ]
  },
  {
   "cell_type": "markdown",
   "id": "c9ee9b01-1cba-4235-99e0-e10c70203447",
   "metadata": {},
   "source": [
    "#### Mas como isso pode ser útil?"
   ]
  },
  {
   "cell_type": "markdown",
   "id": "4cffa64b-3301-4d77-b27f-13b7fbd71a73",
   "metadata": {
    "tags": []
   },
   "source": [
    "Entender se existe um padrão dentro da notificação de casos pode ajudar o planejamento de Hospitais e dos órgãos de sáude para perceber uma eventual demanda maior em determinadas épocas e com isso tentar melhorar a logística de equipamentos, leitos e de profissionais."
   ]
  },
  {
   "cell_type": "markdown",
   "id": "79510059-68a2-4ec9-a00e-d15571a764cd",
   "metadata": {},
   "source": [
    "### __Sazonalidade__"
   ]
  },
  {
   "cell_type": "markdown",
   "id": "82ed3895-3709-45ca-bcae-8f8afcfc0cc3",
   "metadata": {},
   "source": [
    "A sazonalidade é um fator crucial na hora de analisar séries temporais, ela nos ajuda a entender os padrões, podendo assumir diferentes comportamnetos, por exemplo:\n",
    "\n",
    "* Sazonalidade semanal : os dados variam de acordo com o dia da semana\n",
    "* Sazonalidade mensal : os dados variam de acordo com o dia do mês\n",
    "* Sazonalidade anual : os dados variam de acordo com a época do ano"
   ]
  },
  {
   "cell_type": "markdown",
   "id": "ab72da5d-7453-40a0-91ab-b41b1d08a386",
   "metadata": {},
   "source": [
    "Além disso existem diversos outros fatores temporais que podem influenciar os dados, como por exemplo feriados."
   ]
  },
  {
   "cell_type": "markdown",
   "id": "0276df3a-6a9c-4ebb-b03d-95a6f14f61d2",
   "metadata": {},
   "source": [
    "# 2 - Importação dos pacotes"
   ]
  },
  {
   "cell_type": "code",
   "execution_count": 1,
   "id": "fb52d9ea-1767-496f-b12c-839fbbbdf8e7",
   "metadata": {},
   "outputs": [],
   "source": [
    "import pandas as pd\n",
    "import matplotlib as mlt\n",
    "import matplotlib.pyplot as plt\n",
    "from matplotlib.ticker import FuncFormatter\n",
    "import seaborn as sns\n",
    "import numpy as np\n",
    "from plot import plot_time_series, million_formatter,thousand_formatter, percent_formatter\n",
    "from model import Modelo_prophet_semanal\n",
    "import logging\n",
    "logging.getLogger('fbprophet').setLevel(logging.WARNING)\n",
    "import warnings\n",
    "warnings.filterwarnings('ignore')"
   ]
  },
  {
   "cell_type": "code",
   "execution_count": 2,
   "id": "e9b58b93-50eb-49b8-b218-5836999d3600",
   "metadata": {},
   "outputs": [],
   "source": [
    "#Setando parâmetros do matplotlib\n",
    "mlt.rcParams['font.size'] = 18\n",
    "mlt.rcParams['figure.figsize'] = (16,8)"
   ]
  },
  {
   "cell_type": "markdown",
   "id": "9692c667-4ab4-4718-bec2-9baced012186",
   "metadata": {},
   "source": [
    "# 3 - Funções"
   ]
  },
  {
   "cell_type": "markdown",
   "id": "6c4dc1b4-6afc-4634-885f-162f5297f8eb",
   "metadata": {},
   "source": [
    "Aqui estão as funções auxiliares utilizadas no projeto:"
   ]
  },
  {
   "cell_type": "code",
   "execution_count": 3,
   "id": "18ffa106-75da-412c-ab66-9761541716be",
   "metadata": {},
   "outputs": [
    {
     "name": "stdout",
     "output_type": "stream",
     "text": [
      "Help on class Modelo_prophet_semanal in module model:\n",
      "\n",
      "class Modelo_prophet_semanal(builtins.object)\n",
      " |  Modelo_prophet_semanal(dados: pandas.core.frame.DataFrame, teste_periodo: int = 0, holiday=True, pais: str = 'BR', regressors=[], **kwargs_model)\n",
      " |  \n",
      " |  Parâmetros Construtor:\n",
      " |  ---------------------\n",
      " |  dados : DataFrame com duas colunas de nome 'ds'(tipo datetime) e 'y'(tipo int ou float)\n",
      " |  teste_periodo : número inteiro representando o número de dias destinado para o teste\n",
      " |  **Kwargs_model : argumentos adicionais passados para a classe fbprophet.Prophet na hora de criar o modelo\n",
      " |  \n",
      " |  Atributos:\n",
      " |  ---------\n",
      " |  Definidos no construtor:\n",
      " |  -----------------------\n",
      " |      treino : dataset destinado aos dados de treino\n",
      " |      teste : dataset destinado aos dados de teste\n",
      " |      modelo : modelo do tipo fbprophet.Prophet\n",
      " |      previsao : previsao do modelo sobre dados de treino e teste\n",
      " |      \n",
      " |  Definido pela função c_valid():\n",
      " |  ------------------------------\n",
      " |      cross : DataFrame com os dados da validação cruzada\n",
      " |  \n",
      " |  Definido pela função metricas():\n",
      " |  -------------------------------\n",
      " |      metricas : Dataframe com as métricas da validação cruzada \n",
      " |  \n",
      " |  Funções:\n",
      " |  -------\n",
      " |  __init__() : construtor da classe que define os dados de treino, teste e o modelo como atributos do objeto, adiciona os regressores, treina o modelo e faz a previsao para todos os dados\n",
      " |  c_valid() : realiza a validação cruzada do modelo através da função fbprophet.diagnostics.cross_validation\n",
      " |  metricas() : calcula as métricas da validação cruzada através da função fbprophet.diagnostics.performance_metrics\n",
      " |  plota() : função que plota a previsão com os dados de treino e teste\n",
      " |  plot_cross_validation() : chama a função plot_cross_validation_metric do fbprophet.plot\n",
      " |  \n",
      " |  Methods defined here:\n",
      " |  \n",
      " |  __init__(self, dados: pandas.core.frame.DataFrame, teste_periodo: int = 0, holiday=True, pais: str = 'BR', regressors=[], **kwargs_model)\n",
      " |      Construtor da classe que define os dados de treino, teste e o modelo como atributos do objeto\n",
      " |      \n",
      " |      Parâmetros:\n",
      " |      ----------\n",
      " |      dados : DataFrame com os dados de treino e teste com as colunas de data('ds') e a coluna a ser prevista('y'), tipo : pd.DataFrame\n",
      " |      teste_periodo : quantidade de dias que será reservado para os dados de treino, tipo : int\n",
      " |      pais : pais correspondente aos dados para serem adicionados os feriados, tipo : str\n",
      " |      **kwargs_model : argumentos adicionais que serão passados para o modelo fbprophet.Prophet\n",
      " |  \n",
      " |  c_valid(self, **kwargs_cross_validation)\n",
      " |      Função responsável por realizar a validação cruzada\n",
      " |      \n",
      " |      Parâmetros:\n",
      " |      ----------\n",
      " |      **kwargs_cross_validation : argumentos adicionais para serem passados na função fbprophet.diagnostics.cross_validation\n",
      " |  \n",
      " |  metricas(self, metrics=['rmse', 'mae'], diff_rmse_mae=True, margins_mean=True, **kwargs_metricas)\n",
      " |      Função que calcula as métricas da validação cruzada através da função fbprophet.diagnostics.performance_metrics\n",
      " |  \n",
      " |  plot_cross_validation(self, janela: list = [0], metric: str = 'rmse')\n",
      " |  \n",
      " |  plota(self, title: str = '', subtitle: str = '', xlabel: str = '', ylabel: str = '', teste: bool = True, ax=None, show: bool = False, month_freq: int = 2, kwargs_modeloplot: dict = {}, kwargs_testeplot: dict = {'marker': '.', 'color': 'red', 'linestyle': '', 'markersize': 8})\n",
      " |      Função que plota os resultados do modelo e dos dados reais de treino e teste\n",
      " |      \n",
      " |      Parâmetros:\n",
      " |      ----------\n",
      " |      title : título do gráfico, tipo : str, padrão : ''\n",
      " |      subtitle : subtítulo do gráfico, tipo : str, padrão : ''\n",
      " |      xlabel : rótulo do eixo x, tipo : str, padrão : ''\n",
      " |      ylabel : rótulo do eixo y, tipo : str, padrão : ''\n",
      " |      teste : valor lógico para decidir se os dados de teste serão plotados no gráfico, tipo : bool, padrão : True\n",
      " |      show : valor lógico para mostrar ou não mostrar o gráfico, tipo : bool, padrão : False\n",
      " |      ax : eixo a ser plotado o gráfico, se nenhum for passado será criado automaticamnete, tipo : matplotlib.axes, padrão : None\n",
      " |      month_freq : inteiro correspondente ao intervalo entre os meses a serem plotados no eixo x, tipo : int, padrão : 2\n",
      " |      kwargs_modeloplot : dicionário com os argumentos para serem passados pra função fbprophet.Prophet.plot, tipo : dict, padrão : {}\n",
      " |      kwargs_testeplot : dicionário com os argumentos para serem passados pra função seaborn.lineplot, tipo : dict, padrão :{'marker':'.', 'color':'red', 'linestyle':'', 'markersize':8} \n",
      " |      \n",
      " |      Retorno:\n",
      " |      -------\n",
      " |      Retorna o eixo onde o gráfico foi criado\n",
      " |      OBS : se o argumento show for passado igual a True não retorna nada\n",
      " |  \n",
      " |  ----------------------------------------------------------------------\n",
      " |  Data descriptors defined here:\n",
      " |  \n",
      " |  __dict__\n",
      " |      dictionary for instance variables (if defined)\n",
      " |  \n",
      " |  __weakref__\n",
      " |      list of weak references to the object (if defined)\n",
      "\n"
     ]
    }
   ],
   "source": [
    "help(Modelo_prophet_semanal)"
   ]
  },
  {
   "cell_type": "code",
   "execution_count": 4,
   "id": "48096923-e1a6-4d2e-92d8-3756849850de",
   "metadata": {},
   "outputs": [
    {
     "name": "stdout",
     "output_type": "stream",
     "text": [
      "Help on function plot_time_series in module plot:\n",
      "\n",
      "plot_time_series(df: pandas.core.frame.DataFrame, title: str = '', subtitle: str = '', xlabel: str = '', ylabel: str = '', show: bool = False, ax=None, month_freq: int = 2, formatter_x=None, formatter_y=None, fonte: str = 'https://brasil.io/dataset/covid19/caso_full/', spines_invisible: list = ['top', 'right'], ylim: list = None, xlim: list = None, kwargs_grid: dict = {'axis': 'y', 'alpha': 0.6}, **kwargs_lineplot)\n",
      "    Função que plota uma série temporal com os dados relacionados ao tempo no eixo x e os dados numéricos no eixo y\n",
      "    \n",
      "    Parâmetros:\n",
      "    ----------\n",
      "    df : DataFrame do pandas a serem passados os gráfico, precisa ter 2 colunas, uma com dados do tipo datetime e outra com dados numéricos, tipo : pandas.DataFrame, argumento obrigatótio\n",
      "    title : título do gráfico, tipo : str, padrão : ''\n",
      "    subtitle : subtítulo do gráfico, tipo : str, padrão : ''\n",
      "    xlabel : rótulo do eixo x, tipo : str, padrão : ''\n",
      "    ylabel : rótulo do eixo y, tipo : str, padrão : ''\n",
      "    show : valor lógico para mostrar ou não mostrar o gráfico, tipo : bool, padrão : False\n",
      "    ax : eixo a ser plotado o gráfico, se nenhum for passado será criado automaticamnete, tipo : matplotlib.axes, padrão : None\n",
      "    month_freq : inteiro correspondente ao intervalo entre os meses a serem plotados no eixo x, tipo : int, padrão : 2 \n",
      "    fonte : fonte dos dados para ser plotada no gráfico(embaixo), tipo : str, padrão : 'https://brasil.io/dataset/covid19/caso_full/'\n",
      "    spines_invisible : nome dos eixos a serem ocultados, tipo : list, padrão : ['top', 'right']\n",
      "    ylim : lista indicando os limites do eixo y, tipo : list, padrão = None\n",
      "    xlim : lista indicando os limites do eixo x, tipo : list, padrão = None\n",
      "    kwargs_grid : argumentos a serem passados pra função matplotlib.pyplot.grid, tipo : dict, padrão : {'axis':'y', 'alpha':0.6}\n",
      "    **kwargs_lineplot : argumentos adicionais a serem passados para função seaborn.lineplot\n",
      "    \n",
      "    Retorno:\n",
      "    -------\n",
      "    Retorna o eixo onde o gráfico foi criado\n",
      "    OBS : se o argumento show for passado igual a True não retorna nada\n",
      "\n"
     ]
    }
   ],
   "source": [
    "help(plot_time_series)"
   ]
  },
  {
   "cell_type": "code",
   "execution_count": 5,
   "id": "bd62c4e9-9c50-4dc8-acf0-c6df027351f4",
   "metadata": {},
   "outputs": [
    {
     "name": "stdout",
     "output_type": "stream",
     "text": [
      "Help on function million_formatter in module plot:\n",
      "\n",
      "million_formatter(x, pos)\n",
      "    Função responsável por formatar um eixo do 'matplotlib' dividindo os valores por Milhão, \n",
      "    mostrando duas casas decimais depois da vírgula e colocando a palavra 'Mi' após os valores indicando a grandeza,\n",
      "    precisa ser passada como parâmetro para a função FuncFormatter do matplotlib.ticker\n",
      "\n"
     ]
    }
   ],
   "source": [
    "help(million_formatter)"
   ]
  },
  {
   "cell_type": "code",
   "execution_count": 6,
   "id": "14842b6c-bc93-42f7-8abf-3194702a200b",
   "metadata": {},
   "outputs": [
    {
     "name": "stdout",
     "output_type": "stream",
     "text": [
      "Help on function thousand_formatter in module plot:\n",
      "\n",
      "thousand_formatter(x, pos)\n",
      "    Função responsável por formatar um eixo do 'matplotlib' dividindo os valores por Mil, \n",
      "    mostrando duas casas decimais depois da vírgula e colocando a palavra 'Mil' após os valores indicando a grandeza,\n",
      "    precisa ser passada como parâmetro para a função FuncFormatter do matplotlib.ticker\n",
      "\n"
     ]
    }
   ],
   "source": [
    "help(thousand_formatter)"
   ]
  },
  {
   "cell_type": "code",
   "execution_count": 7,
   "id": "c2cc0cfb-926b-4c19-aba9-4f7e229eb812",
   "metadata": {},
   "outputs": [],
   "source": [
    "million_formatter = FuncFormatter(million_formatter)\n",
    "thousand_formatter = FuncFormatter(thousand_formatter)\n",
    "percent_formatter = FuncFormatter(percent_formatter)"
   ]
  },
  {
   "cell_type": "markdown",
   "id": "42ee57fd-e017-48b0-914c-a091b8889807",
   "metadata": {},
   "source": [
    "# 4 - Limpeza dos dados brutos"
   ]
  },
  {
   "cell_type": "markdown",
   "id": "15f28bec-dd6d-4e63-975a-ce0b4001e6d2",
   "metadata": {},
   "source": [
    "Os dados foram extraídos do [Brasil.IO](https://brasil.io/dataset/covid19/caso_full/) e foram tratados no notebook [Limpeza_dados_covid](https://github.com/PedroHCAlmeida/analise_temporal_COVID_Brasil/blob/main/notebooks/Limpeza_dados_covid.ipynb), esses dados estão divididos em 18 colunas, são elas:"
   ]
  },
  {
   "cell_type": "markdown",
   "id": "356f649d-34cd-43a9-a26f-fceae9043ab0",
   "metadata": {},
   "source": [
    "* city : cidade\n",
    "* city_ibge_code : código da cidade\n",
    "* date : data das observações\n",
    "* epidemiological_week : semana epidemiológica\n",
    "* estimated_population : população estimada\n",
    "* estimated_population_2019 : população estimada de 2019\n",
    "* is_last : indica se os dados de relacionados ao last_avaiable são realmente os últimos\n",
    "* is_repeated : se os valores são repeditos\n",
    "* last_available_confirmed : última atualização do número total de casos confirmados\n",
    "* last_available_confirmed_per_100k_inhabitants : última atualização do número total de casos confirmados por 100 mil habitantes\n",
    "* last_available_date : data da última atualização\n",
    "* last_available_death_rate : última atualização da taxa de mortes\n",
    "* last_available_deaths : última atualização do número total de mortes confirmados\n",
    "* order_for_place : \n",
    "* place_type : tipo de local, estado ou cidade\n",
    "* state : sigla do estado correspondente\n",
    "* new_confirmed : casos novos notificados no dia\n",
    "* new_deaths : óbitos novos notificados no dia"
   ]
  },
  {
   "cell_type": "markdown",
   "id": "176d95aa-2821-471c-8e71-8a1824d6b705",
   "metadata": {},
   "source": [
    "# 5 - Leitura dos dados limpos"
   ]
  },
  {
   "cell_type": "markdown",
   "id": "e2bfe3b5-737a-4f73-a716-e9817245602a",
   "metadata": {},
   "source": [
    "## Dados limpos"
   ]
  },
  {
   "cell_type": "markdown",
   "id": "9854ec01-da84-4045-967d-faa15f59a0b6",
   "metadata": {},
   "source": [
    "Após a limpeza dos dados brutos foram usadas as colunas de casos novos e de óbitos novos por dia para calcular o total por dia no Brasil, além disso foram criadas as colunas de média móvel de 7 dias para os dados de casos e óbitos e uma coluna com a \"letalidade\" naquela mÊs, que na verdade são os n;umeros de óbitos somados no país no mês dividido pelo número de casos no mesmo mês."
   ]
  },
  {
   "cell_type": "markdown",
   "id": "ed44b4a1-70e3-4041-af59-e6409c3a0a3b",
   "metadata": {},
   "source": [
    "Colunas dos dados limpos:"
   ]
  },
  {
   "cell_type": "markdown",
   "id": "0fe308b4-0f7a-41a6-a0ae-50cf2e18c0f9",
   "metadata": {},
   "source": [
    "* date : data relacionada ao número de casos e óbitos\n",
    "* casos_novos : número de casos notificados no dia\n",
    "* obitos_novos : número de óbitos notificados no dia\n",
    "* MM7_casos : média móvel de 7 dias dos casos novos\n",
    "* MM7_obitos : média móvel de 7 dias dos casos novos\n",
    "* mes/ano : mes e ano correspondentes\n",
    "* letalidade_mes : número de óbitos totais do mês divididos pelo número de casos notificados no mês"
   ]
  },
  {
   "cell_type": "code",
   "execution_count": 8,
   "id": "0c174c6a-4a9b-453a-b7a3-ebfe08e95cbd",
   "metadata": {},
   "outputs": [],
   "source": [
    "dados_br = pd.read_csv('../dados_limpos/dados_rj', parse_dates=['date'])"
   ]
  },
  {
   "cell_type": "code",
   "execution_count": 22,
   "id": "977ce6e7-978b-4271-a64f-893f076b379f",
   "metadata": {},
   "outputs": [],
   "source": [
    "mob = pd.read_csv('../dados_limpos/mobilidade', parse_dates=['date'])"
   ]
  },
  {
   "cell_type": "markdown",
   "id": "ec3a0b56-3404-4ddd-98af-679a0fbd7c06",
   "metadata": {},
   "source": [
    "# 6 - Hipóteses "
   ]
  },
  {
   "cell_type": "markdown",
   "id": "837ce9d2-6932-4b6e-b201-627869271d79",
   "metadata": {},
   "source": [
    "* A média móvel de 7 dias de casos por dia em 2021 ultrapassou o pico de casos em 2020\n",
    "* A média móvel de 7 dias de óbitos por dia em 2021 ultrapassou o pico de óbitos em 2020\n",
    "* Nos finais de semana os casos notificados são menores do que no meio da semana\n",
    "* Existe uma correlação entre o número de óbitos no dia e o número de casos em dias anteriores"
   ]
  },
  {
   "cell_type": "markdown",
   "id": "9d554a03-8589-4868-a93b-9088e6aefa7a",
   "metadata": {},
   "source": [
    "# 7 - Visualização dos dados"
   ]
  },
  {
   "cell_type": "code",
   "execution_count": 9,
   "id": "dd52687f-2e15-4029-a51e-85ee324f2884",
   "metadata": {},
   "outputs": [
    {
     "data": {
      "text/html": [
       "<div>\n",
       "<style scoped>\n",
       "    .dataframe tbody tr th:only-of-type {\n",
       "        vertical-align: middle;\n",
       "    }\n",
       "\n",
       "    .dataframe tbody tr th {\n",
       "        vertical-align: top;\n",
       "    }\n",
       "\n",
       "    .dataframe thead th {\n",
       "        text-align: right;\n",
       "    }\n",
       "</style>\n",
       "<table border=\"1\" class=\"dataframe\">\n",
       "  <thead>\n",
       "    <tr style=\"text-align: right;\">\n",
       "      <th></th>\n",
       "      <th>date</th>\n",
       "      <th>casos_novos</th>\n",
       "      <th>obitos_novos</th>\n",
       "      <th>MM7_casos</th>\n",
       "      <th>MM7_obitos</th>\n",
       "      <th>mes</th>\n",
       "      <th>letalidade_mes</th>\n",
       "    </tr>\n",
       "  </thead>\n",
       "  <tbody>\n",
       "    <tr>\n",
       "      <th>0</th>\n",
       "      <td>2020-03-06</td>\n",
       "      <td>1</td>\n",
       "      <td>0</td>\n",
       "      <td>NaN</td>\n",
       "      <td>NaN</td>\n",
       "      <td>03-2020</td>\n",
       "      <td>0.030717</td>\n",
       "    </tr>\n",
       "    <tr>\n",
       "      <th>1</th>\n",
       "      <td>2020-03-07</td>\n",
       "      <td>0</td>\n",
       "      <td>0</td>\n",
       "      <td>NaN</td>\n",
       "      <td>NaN</td>\n",
       "      <td>03-2020</td>\n",
       "      <td>0.030717</td>\n",
       "    </tr>\n",
       "    <tr>\n",
       "      <th>2</th>\n",
       "      <td>2020-03-08</td>\n",
       "      <td>1</td>\n",
       "      <td>0</td>\n",
       "      <td>NaN</td>\n",
       "      <td>NaN</td>\n",
       "      <td>03-2020</td>\n",
       "      <td>0.030717</td>\n",
       "    </tr>\n",
       "    <tr>\n",
       "      <th>3</th>\n",
       "      <td>2020-03-09</td>\n",
       "      <td>0</td>\n",
       "      <td>0</td>\n",
       "      <td>NaN</td>\n",
       "      <td>NaN</td>\n",
       "      <td>03-2020</td>\n",
       "      <td>0.030717</td>\n",
       "    </tr>\n",
       "    <tr>\n",
       "      <th>4</th>\n",
       "      <td>2020-03-10</td>\n",
       "      <td>0</td>\n",
       "      <td>0</td>\n",
       "      <td>NaN</td>\n",
       "      <td>NaN</td>\n",
       "      <td>03-2020</td>\n",
       "      <td>0.030717</td>\n",
       "    </tr>\n",
       "  </tbody>\n",
       "</table>\n",
       "</div>"
      ],
      "text/plain": [
       "        date  casos_novos  obitos_novos  MM7_casos  MM7_obitos      mes  \\\n",
       "0 2020-03-06            1             0        NaN         NaN  03-2020   \n",
       "1 2020-03-07            0             0        NaN         NaN  03-2020   \n",
       "2 2020-03-08            1             0        NaN         NaN  03-2020   \n",
       "3 2020-03-09            0             0        NaN         NaN  03-2020   \n",
       "4 2020-03-10            0             0        NaN         NaN  03-2020   \n",
       "\n",
       "   letalidade_mes  \n",
       "0        0.030717  \n",
       "1        0.030717  \n",
       "2        0.030717  \n",
       "3        0.030717  \n",
       "4        0.030717  "
      ]
     },
     "execution_count": 9,
     "metadata": {},
     "output_type": "execute_result"
    }
   ],
   "source": [
    "dados_br.head()"
   ]
  },
  {
   "cell_type": "code",
   "execution_count": 10,
   "id": "80b8de37-53ec-46c1-b496-932e82a02406",
   "metadata": {},
   "outputs": [
    {
     "data": {
      "text/html": [
       "<div>\n",
       "<style scoped>\n",
       "    .dataframe tbody tr th:only-of-type {\n",
       "        vertical-align: middle;\n",
       "    }\n",
       "\n",
       "    .dataframe tbody tr th {\n",
       "        vertical-align: top;\n",
       "    }\n",
       "\n",
       "    .dataframe thead th {\n",
       "        text-align: right;\n",
       "    }\n",
       "</style>\n",
       "<table border=\"1\" class=\"dataframe\">\n",
       "  <thead>\n",
       "    <tr style=\"text-align: right;\">\n",
       "      <th></th>\n",
       "      <th>date</th>\n",
       "      <th>casos_novos</th>\n",
       "      <th>obitos_novos</th>\n",
       "      <th>MM7_casos</th>\n",
       "      <th>MM7_obitos</th>\n",
       "      <th>mes</th>\n",
       "      <th>letalidade_mes</th>\n",
       "    </tr>\n",
       "  </thead>\n",
       "  <tbody>\n",
       "    <tr>\n",
       "      <th>467</th>\n",
       "      <td>2021-06-16</td>\n",
       "      <td>2485</td>\n",
       "      <td>109</td>\n",
       "      <td>1555.571429</td>\n",
       "      <td>88.714286</td>\n",
       "      <td>06-2021</td>\n",
       "      <td>0.05176</td>\n",
       "    </tr>\n",
       "    <tr>\n",
       "      <th>468</th>\n",
       "      <td>2021-06-17</td>\n",
       "      <td>2585</td>\n",
       "      <td>124</td>\n",
       "      <td>1645.428571</td>\n",
       "      <td>86.857143</td>\n",
       "      <td>06-2021</td>\n",
       "      <td>0.05176</td>\n",
       "    </tr>\n",
       "    <tr>\n",
       "      <th>469</th>\n",
       "      <td>2021-06-18</td>\n",
       "      <td>1953</td>\n",
       "      <td>51</td>\n",
       "      <td>1653.571429</td>\n",
       "      <td>76.428571</td>\n",
       "      <td>06-2021</td>\n",
       "      <td>0.05176</td>\n",
       "    </tr>\n",
       "    <tr>\n",
       "      <th>470</th>\n",
       "      <td>2021-06-19</td>\n",
       "      <td>0</td>\n",
       "      <td>0</td>\n",
       "      <td>1360.000000</td>\n",
       "      <td>62.142857</td>\n",
       "      <td>06-2021</td>\n",
       "      <td>0.05176</td>\n",
       "    </tr>\n",
       "    <tr>\n",
       "      <th>471</th>\n",
       "      <td>2021-06-20</td>\n",
       "      <td>0</td>\n",
       "      <td>0</td>\n",
       "      <td>1299.857143</td>\n",
       "      <td>59.285714</td>\n",
       "      <td>06-2021</td>\n",
       "      <td>0.05176</td>\n",
       "    </tr>\n",
       "  </tbody>\n",
       "</table>\n",
       "</div>"
      ],
      "text/plain": [
       "          date  casos_novos  obitos_novos    MM7_casos  MM7_obitos      mes  \\\n",
       "467 2021-06-16         2485           109  1555.571429   88.714286  06-2021   \n",
       "468 2021-06-17         2585           124  1645.428571   86.857143  06-2021   \n",
       "469 2021-06-18         1953            51  1653.571429   76.428571  06-2021   \n",
       "470 2021-06-19            0             0  1360.000000   62.142857  06-2021   \n",
       "471 2021-06-20            0             0  1299.857143   59.285714  06-2021   \n",
       "\n",
       "     letalidade_mes  \n",
       "467         0.05176  \n",
       "468         0.05176  \n",
       "469         0.05176  \n",
       "470         0.05176  \n",
       "471         0.05176  "
      ]
     },
     "execution_count": 10,
     "metadata": {},
     "output_type": "execute_result"
    }
   ],
   "source": [
    "dados_br.tail()"
   ]
  },
  {
   "cell_type": "code",
   "execution_count": 11,
   "id": "3589296e-6d69-40da-a27f-80a529f8644d",
   "metadata": {},
   "outputs": [
    {
     "data": {
      "image/png": "[encoded data removed]",
      "text/plain": [
       "<Figure size 1152x576 with 1 Axes>"
      ]
     },
     "metadata": {
      "needs_background": "light"
     },
     "output_type": "display_data"
    }
   ],
   "source": [
    "ax_casos=plot_time_series(dados_br[['casos_novos', 'date']])\n",
    "plot_time_series(dados_br[['MM7_casos', 'date']],'Casos diários de COVID-19 no Brasil', \n",
    "                 'CASOS NOVOS NOTIFICADOS POR DIA NO BRASIL E MÉDIA MÓVEL CALCULADA NOS ÚLTIMOS 7 DIAS', color='red', ax=ax_casos, \n",
    "                 xlabel='ANO/MÊS', ylabel='Casos por dia', formatter_y=thousand_formatter)\n",
    "plt.hlines(max(dados_br[dados_br['date'].dt.year == 2020].dropna()['casos_novos']), min(dados_br['date']), max(dados_br['date']), linestyle='--', alpha=0.8)\n",
    "plt.annotate(' Pico de casos em 2020', (dados_br['date'].iloc[-1],max(dados_br[dados_br['date'].dt.year == 2020].dropna()['casos_novos'])), color='black', alpha=0.8)\n",
    "plt.annotate(' Média Móvel de 7 dias', (dados_br['date'].iloc[-1],dados_br['MM7_casos'].iloc[-1]), color='red')\n",
    "plt.hlines(max(dados_br.dropna()['casos_novos']), min(dados_br['date']), max(dados_br['date']), linestyle='--', alpha=0.8)\n",
    "plt.annotate(' Pico de casos em 2021', (dados_br['date'].iloc[-1],max(dados_br.dropna()['casos_novos'])), color='black', alpha=0.8)\n",
    "plt.show()"
   ]
  },
  {
   "cell_type": "code",
   "execution_count": 32,
   "id": "d48432e8-493c-4131-a141-5ac33b7767dd",
   "metadata": {},
   "outputs": [
    {
     "data": {
      "text/html": [
       "<div>\n",
       "<style scoped>\n",
       "    .dataframe tbody tr th:only-of-type {\n",
       "        vertical-align: middle;\n",
       "    }\n",
       "\n",
       "    .dataframe tbody tr th {\n",
       "        vertical-align: top;\n",
       "    }\n",
       "\n",
       "    .dataframe thead th {\n",
       "        text-align: right;\n",
       "    }\n",
       "</style>\n",
       "<table border=\"1\" class=\"dataframe\">\n",
       "  <thead>\n",
       "    <tr style=\"text-align: right;\">\n",
       "      <th></th>\n",
       "      <th>date</th>\n",
       "      <th>casos_novos</th>\n",
       "      <th>obitos_novos</th>\n",
       "      <th>MM7_casos</th>\n",
       "      <th>MM7_obitos</th>\n",
       "      <th>mes</th>\n",
       "      <th>letalidade_mes</th>\n",
       "    </tr>\n",
       "  </thead>\n",
       "  <tbody>\n",
       "    <tr>\n",
       "      <th>347</th>\n",
       "      <td>2021-02-16</td>\n",
       "      <td>7592</td>\n",
       "      <td>105</td>\n",
       "      <td>1412.0</td>\n",
       "      <td>60.0</td>\n",
       "      <td>02-2021</td>\n",
       "      <td>0.091293</td>\n",
       "    </tr>\n",
       "  </tbody>\n",
       "</table>\n",
       "</div>"
      ],
      "text/plain": [
       "          date  casos_novos  obitos_novos  MM7_casos  MM7_obitos      mes  \\\n",
       "347 2021-02-16         7592           105     1412.0        60.0  02-2021   \n",
       "\n",
       "     letalidade_mes  \n",
       "347        0.091293  "
      ]
     },
     "execution_count": 32,
     "metadata": {},
     "output_type": "execute_result"
    }
   ],
   "source": [
    "dados_br[dados_br['casos_novos'] == max(dados_br['casos_novos'])]"
   ]
  },
  {
   "cell_type": "code",
   "execution_count": 12,
   "id": "fe01b3ef-850c-48e1-a68a-61fcce292ba8",
   "metadata": {},
   "outputs": [
    {
     "data": {
      "image/png": "[encoded data removed]",
      "text/plain": [
       "<Figure size 1152x576 with 1 Axes>"
      ]
     },
     "metadata": {
      "needs_background": "light"
     },
     "output_type": "display_data"
    }
   ],
   "source": [
    "ax_obitos=plot_time_series(dados_br[['obitos_novos', 'date']], color='red')\n",
    "plot_time_series(dados_br[['MM7_obitos', 'date']],'Óbitos diários de COVID-19 no Brasil',\n",
    "                 'ÓBITOS NOVOS NOTIFICADOS POR DIA NO BRASIL E MÉDIA MÓVEL CALCULADA NOS ÚLTIMOS 7 DIAS', color='black', ax=ax_obitos, \n",
    "                 xlabel='ANO/MÊS', ylabel='Óbitos por dia',formatter_y=thousand_formatter)\n",
    "plt.hlines(max(dados_br[dados_br['date'].dt.year == 2020]['obitos_novos']), min(dados_br['date']), max(dados_br['date']), linestyle='--', alpha=0.8)\n",
    "plt.annotate(' Pico de mortes em 2020', (dados_br['date'].iloc[-1],max(dados_br[dados_br['date'].dt.year == 2020]['obitos_novos'])), color='black', alpha=0.8)\n",
    "plt.hlines(max(dados_br.dropna()['obitos_novos']), min(dados_br['date']), max(dados_br['date']), linestyle='--', alpha=0.8)\n",
    "plt.annotate(' Pico de mortes em 2021', (dados_br['date'].iloc[-1],max(dados_br.dropna()['obitos_novos'])), color='black', alpha=0.8)\n",
    "plt.annotate(' Média Móvel de 7 dias', (dados_br['date'].iloc[-1],dados_br['MM7_obitos'].iloc[-1]), color='black')\n",
    "plt.annotate(' Média Móvel de 7 dias', (dados_br['date'].iloc[-1],dados_br['MM7_obitos'].iloc[-1]), color='black')\n",
    "plt.show()"
   ]
  },
  {
   "cell_type": "code",
   "execution_count": 13,
   "id": "7d541355-cc28-4db5-b24f-49815fe919f1",
   "metadata": {},
   "outputs": [
    {
     "data": {
      "image/png": "[encoded data removed]",
      "text/plain": [
       "<Figure size 1152x576 with 1 Axes>"
      ]
     },
     "metadata": {
      "needs_background": "light"
     },
     "output_type": "display_data"
    }
   ],
   "source": [
    "plot_time_series(dados_br[['letalidade_mes', 'date']],'Mortes em relação aos casos de COVID-19 por mês no Brasil', 'NÚMERO DE ÓBITOS NO MÊS DIVIDIDO PELO NÚMERO DE CASOS', \n",
    "                 xlabel='ANO/MÊS', ylabel='Mortes por casos (%)',formatter_y=percent_formatter, color='red')\n",
    "plt.fill_between(dados_br['date'], dados_br['letalidade_mes'], color='red', alpha=0.1)\n",
    "plt.show()"
   ]
  },
  {
   "cell_type": "code",
   "execution_count": 14,
   "id": "cfda4f2c-415b-4aaf-9a74-109ee2230703",
   "metadata": {},
   "outputs": [
    {
     "data": {
      "text/html": [
       "<div>\n",
       "<style scoped>\n",
       "    .dataframe tbody tr th:only-of-type {\n",
       "        vertical-align: middle;\n",
       "    }\n",
       "\n",
       "    .dataframe tbody tr th {\n",
       "        vertical-align: top;\n",
       "    }\n",
       "\n",
       "    .dataframe thead th {\n",
       "        text-align: right;\n",
       "    }\n",
       "</style>\n",
       "<table border=\"1\" class=\"dataframe\">\n",
       "  <thead>\n",
       "    <tr style=\"text-align: right;\">\n",
       "      <th></th>\n",
       "      <th>Correlacao_obitos</th>\n",
       "    </tr>\n",
       "    <tr>\n",
       "      <th>Casos_XDias_antes</th>\n",
       "      <th></th>\n",
       "    </tr>\n",
       "  </thead>\n",
       "  <tbody>\n",
       "    <tr>\n",
       "      <th>1</th>\n",
       "      <td>0.368467</td>\n",
       "    </tr>\n",
       "    <tr>\n",
       "      <th>2</th>\n",
       "      <td>0.228781</td>\n",
       "    </tr>\n",
       "    <tr>\n",
       "      <th>3</th>\n",
       "      <td>0.168583</td>\n",
       "    </tr>\n",
       "    <tr>\n",
       "      <th>4</th>\n",
       "      <td>0.140439</td>\n",
       "    </tr>\n",
       "    <tr>\n",
       "      <th>5</th>\n",
       "      <td>0.203408</td>\n",
       "    </tr>\n",
       "    <tr>\n",
       "      <th>6</th>\n",
       "      <td>0.435945</td>\n",
       "    </tr>\n",
       "    <tr>\n",
       "      <th>7</th>\n",
       "      <td>0.540802</td>\n",
       "    </tr>\n",
       "    <tr>\n",
       "      <th>8</th>\n",
       "      <td>0.334609</td>\n",
       "    </tr>\n",
       "    <tr>\n",
       "      <th>9</th>\n",
       "      <td>0.191509</td>\n",
       "    </tr>\n",
       "    <tr>\n",
       "      <th>10</th>\n",
       "      <td>0.113059</td>\n",
       "    </tr>\n",
       "    <tr>\n",
       "      <th>11</th>\n",
       "      <td>0.128228</td>\n",
       "    </tr>\n",
       "    <tr>\n",
       "      <th>12</th>\n",
       "      <td>0.197082</td>\n",
       "    </tr>\n",
       "    <tr>\n",
       "      <th>13</th>\n",
       "      <td>0.383754</td>\n",
       "    </tr>\n",
       "    <tr>\n",
       "      <th>14</th>\n",
       "      <td>0.512087</td>\n",
       "    </tr>\n",
       "    <tr>\n",
       "      <th>15</th>\n",
       "      <td>0.284047</td>\n",
       "    </tr>\n",
       "    <tr>\n",
       "      <th>16</th>\n",
       "      <td>0.104233</td>\n",
       "    </tr>\n",
       "    <tr>\n",
       "      <th>17</th>\n",
       "      <td>0.089108</td>\n",
       "    </tr>\n",
       "    <tr>\n",
       "      <th>18</th>\n",
       "      <td>0.038347</td>\n",
       "    </tr>\n",
       "    <tr>\n",
       "      <th>19</th>\n",
       "      <td>0.137416</td>\n",
       "    </tr>\n",
       "    <tr>\n",
       "      <th>20</th>\n",
       "      <td>0.312550</td>\n",
       "    </tr>\n",
       "    <tr>\n",
       "      <th>21</th>\n",
       "      <td>0.455602</td>\n",
       "    </tr>\n",
       "  </tbody>\n",
       "</table>\n",
       "</div>"
      ],
      "text/plain": [
       "                   Correlacao_obitos\n",
       "Casos_XDias_antes                   \n",
       "1                           0.368467\n",
       "2                           0.228781\n",
       "3                           0.168583\n",
       "4                           0.140439\n",
       "5                           0.203408\n",
       "6                           0.435945\n",
       "7                           0.540802\n",
       "8                           0.334609\n",
       "9                           0.191509\n",
       "10                          0.113059\n",
       "11                          0.128228\n",
       "12                          0.197082\n",
       "13                          0.383754\n",
       "14                          0.512087\n",
       "15                          0.284047\n",
       "16                          0.104233\n",
       "17                          0.089108\n",
       "18                          0.038347\n",
       "19                          0.137416\n",
       "20                          0.312550\n",
       "21                          0.455602"
      ]
     },
     "execution_count": 14,
     "metadata": {},
     "output_type": "execute_result"
    }
   ],
   "source": [
    "df_corr = pd.DataFrame()\n",
    "dias_antes = []\n",
    "corr = []\n",
    "\n",
    "for i in range(1,22):\n",
    "    dias_antes.append(i)\n",
    "    corr.append(dados_br['obitos_novos'].corr(dados_br['casos_novos'].shift(i), method='spearman'))\n",
    "df_corr['Casos_XDias_antes'] = dias_antes\n",
    "df_corr['Correlacao_obitos'] = corr\n",
    "df_corr = df_corr.set_index('Casos_XDias_antes')\n",
    "df_corr"
   ]
  },
  {
   "cell_type": "markdown",
   "id": "4c66c3e6-3dc2-4f0f-8cd7-d67df3adfadd",
   "metadata": {},
   "source": [
    "feriados = ['09/04/2020',\n",
    "'10/04/2020',\n",
    "'21/04/2020',\n",
    "'23/04/2020',\n",
    "'01/05/2020',\n",
    "'11/06/2020',\n",
    "'12/06/2020',\n",
    "'07/09/2020',\n",
    "'12/10/2020',\n",
    "'15/10/2020',\n",
    "'19/10/2020',\n",
    "'28/10/2020',\n",
    "'02/11/2020',\n",
    "'15/11/2020',\n",
    "'20/11/2020',\n",
    "'29/11/2020',\n",
    "'24/12/2020',\n",
    "'25/12/2020',\n",
    "'31/12/2020',\n",
    "'01/01/2021',\n",
    "'20/01/2021',\n",
    "'21/01/2021',\n",
    "'03/02/2021',\n",
    "'12/02/2021',\n",
    "'15/02/2021',\n",
    "'16/02/2021',\n",
    "'17/02/2021',\n",
    "'26/03/2021',\n",
    "'27/03/2021',\n",
    "'28/03/2021',\n",
    "'29/03/2021',\n",
    "'30/03/2021',\n",
    "'31/03/2021',\n",
    "'01/04/2021',\n",
    "'02/04/2021',\n",
    "'03/04/2021',\n",
    "'04/04/2021',\n",
    "'21/04/2021',\n",
    "'23/04/2021',\n",
    "'01/05/2021',\n",
    "'03/06/2021',\n",
    "'04/06/2021']# 6 - Modelos de previsões"
   ]
  },
  {
   "cell_type": "code",
   "execution_count": 47,
   "id": "2fba4fdc-bc95-40e9-ad77-9d9c03ed203b",
   "metadata": {},
   "outputs": [],
   "source": [
    "feriados = ['2020-04-09',\n",
    "'2020-04-10',\n",
    "'2020-04-21',\n",
    "'2020-04-23',\n",
    "'2020-05-01',\n",
    "'2020-06-11',\n",
    "'2020-06-12',\n",
    "'2020-07-09',\n",
    "'2020-10-12',\n",
    "'2020-10-15',\n",
    "'2020-10-19',\n",
    "'2020-10-28',\n",
    "'2020-11-02',\n",
    "'2020-11-15',\n",
    "'2020-11-20',\n",
    "'2020-11-29',\n",
    "'2020-12-24',\n",
    "'2020-12-25',\n",
    "'2020-12-31',\n",
    "'2021-01-01',\n",
    "'2021-01-20',\n",
    "'2021-01-21',\n",
    "'2021-02-03',\n",
    "'2021-02-12',\n",
    "'2021-02-15',\n",
    "'2021-02-16',\n",
    "'2021-02-17',\n",
    "'2021-03-26',\n",
    "'2021-03-27',\n",
    "'2021-03-28',\n",
    "'2021-03-29',\n",
    "'2021-03-30',\n",
    "'2021-03-31',\n",
    "'2021-04-01',\n",
    "'2021-04-02',\n",
    "'2021-04-03',\n",
    "'2021-04-04',\n",
    "'2021-04-21',\n",
    "'2021-04-23',\n",
    "'2021-05-01',\n",
    "'2021-06-03',\n",
    "'2021-06-04']"
   ]
  },
  {
   "cell_type": "markdown",
   "id": "59b3d4de-4b3e-481f-967d-4b78eead983e",
   "metadata": {},
   "source": [
    "Com o objetivo de analisar as séries temporais de números de casos e óbitos por dia de COVID-19 no Brasil, "
   ]
  },
  {
   "cell_type": "markdown",
   "id": "9cfa70bd-da12-4a28-8e76-96ebc0664eb2",
   "metadata": {},
   "source": [
    "## 6.1 - Tipo de modelo"
   ]
  },
  {
   "cell_type": "markdown",
   "id": "75a4f03d-053c-4fb2-89e4-e9116239c748",
   "metadata": {},
   "source": [
    "Prophet"
   ]
  },
  {
   "cell_type": "markdown",
   "id": "448e6784-0ae4-416e-a481-3a000e4cc338",
   "metadata": {},
   "source": [
    "## 6.2 - Métricas escolhidas"
   ]
  },
  {
   "cell_type": "markdown",
   "id": "16d43985-f14b-452e-913c-9d5993f06f79",
   "metadata": {},
   "source": [
    "MSA RMSE"
   ]
  },
  {
   "cell_type": "markdown",
   "id": "36de87fc-db9b-42f4-a624-aa69c1646a6d",
   "metadata": {},
   "source": [
    "## 6.3 - Modelo para prever casos por dia de COVID-19 no Brasil"
   ]
  },
  {
   "cell_type": "code",
   "execution_count": null,
   "id": "94bc922d-4df1-4db8-bea4-b2d37c3578c1",
   "metadata": {},
   "outputs": [],
   "source": []
  },
  {
   "cell_type": "markdown",
   "id": "f53ab9b3-9ba2-4784-8f16-ecd2aa10ca54",
   "metadata": {},
   "source": [
    "### 6.3.1 - Problema a ser resolvido"
   ]
  },
  {
   "cell_type": "code",
   "execution_count": null,
   "id": "d1ab48e3-5cb9-470d-a767-94be2df957ec",
   "metadata": {},
   "outputs": [],
   "source": []
  },
  {
   "cell_type": "markdown",
   "id": "eabd20ff-b1bc-469c-ad4e-61fdbdb426f2",
   "metadata": {},
   "source": [
    "### 6.3.2 - Modelo mais simples"
   ]
  },
  {
   "cell_type": "markdown",
   "id": "ac231da4-27cf-4263-be73-77c5353242a5",
   "metadata": {},
   "source": [
    "A fim de ter um ponto de partida como referência para realizar as melhoras do modelo será criado o modelo mais simples possível pelo Prophet a partir dos dados de casos novos por dia de COVID-19 no Brasil."
   ]
  },
  {
   "cell_type": "code",
   "execution_count": 54,
   "id": "70646231-2edd-46b9-9bc1-c3bb13edf84d",
   "metadata": {},
   "outputs": [],
   "source": [
    "dados_casos = dados_br[['date', 'casos_novos']]\n",
    "dados_casos.columns = ['ds', 'y']"
   ]
  },
  {
   "cell_type": "code",
   "execution_count": 55,
   "id": "fadf9f0e-5194-4d5b-87b6-2cf5846de6bf",
   "metadata": {},
   "outputs": [
    {
     "data": {
      "application/vnd.jupyter.widget-view+json": {
       "model_id": "69a5559822214dcdbf0c861e02659836",
       "version_major": 2,
       "version_minor": 0
      },
      "text/plain": [
       "  0%|          | 0/9 [00:00<?, ?it/s]"
      ]
     },
     "metadata": {},
     "output_type": "display_data"
    },
    {
     "data": {
      "text/html": [
       "<div>\n",
       "<style scoped>\n",
       "    .dataframe tbody tr th:only-of-type {\n",
       "        vertical-align: middle;\n",
       "    }\n",
       "\n",
       "    .dataframe tbody tr th {\n",
       "        vertical-align: top;\n",
       "    }\n",
       "\n",
       "    .dataframe thead th {\n",
       "        text-align: right;\n",
       "    }\n",
       "</style>\n",
       "<table border=\"1\" class=\"dataframe\">\n",
       "  <thead>\n",
       "    <tr style=\"text-align: right;\">\n",
       "      <th></th>\n",
       "      <th>horizon</th>\n",
       "      <th>rmse</th>\n",
       "      <th>mae</th>\n",
       "      <th>media_metricas</th>\n",
       "      <th>diff_rmse_mae</th>\n",
       "    </tr>\n",
       "  </thead>\n",
       "  <tbody>\n",
       "    <tr>\n",
       "      <th>0</th>\n",
       "      <td>3 days</td>\n",
       "      <td>469.952814</td>\n",
       "      <td>393.305974</td>\n",
       "      <td>431.629394</td>\n",
       "      <td>76.64684</td>\n",
       "    </tr>\n",
       "    <tr>\n",
       "      <th>1</th>\n",
       "      <td>4 days</td>\n",
       "      <td>609.381621</td>\n",
       "      <td>470.870181</td>\n",
       "      <td>540.125901</td>\n",
       "      <td>138.511441</td>\n",
       "    </tr>\n",
       "    <tr>\n",
       "      <th>2</th>\n",
       "      <td>5 days</td>\n",
       "      <td>567.926762</td>\n",
       "      <td>403.9354</td>\n",
       "      <td>485.931081</td>\n",
       "      <td>163.991362</td>\n",
       "    </tr>\n",
       "    <tr>\n",
       "      <th>3</th>\n",
       "      <td>6 days</td>\n",
       "      <td>624.955226</td>\n",
       "      <td>436.715283</td>\n",
       "      <td>530.835255</td>\n",
       "      <td>188.239942</td>\n",
       "    </tr>\n",
       "    <tr>\n",
       "      <th>4</th>\n",
       "      <td>7 days</td>\n",
       "      <td>600.460528</td>\n",
       "      <td>439.986905</td>\n",
       "      <td>520.223717</td>\n",
       "      <td>160.473622</td>\n",
       "    </tr>\n",
       "    <tr>\n",
       "      <th>5</th>\n",
       "      <td>8 days</td>\n",
       "      <td>670.145122</td>\n",
       "      <td>497.878641</td>\n",
       "      <td>584.011882</td>\n",
       "      <td>172.26648</td>\n",
       "    </tr>\n",
       "    <tr>\n",
       "      <th>6</th>\n",
       "      <td>9 days</td>\n",
       "      <td>803.299385</td>\n",
       "      <td>554.961189</td>\n",
       "      <td>679.130287</td>\n",
       "      <td>248.338196</td>\n",
       "    </tr>\n",
       "    <tr>\n",
       "      <th>7</th>\n",
       "      <td>10 days</td>\n",
       "      <td>793.638418</td>\n",
       "      <td>576.709957</td>\n",
       "      <td>685.174187</td>\n",
       "      <td>216.928461</td>\n",
       "    </tr>\n",
       "    <tr>\n",
       "      <th>8</th>\n",
       "      <td>11 days</td>\n",
       "      <td>787.792683</td>\n",
       "      <td>602.951458</td>\n",
       "      <td>695.372071</td>\n",
       "      <td>184.841225</td>\n",
       "    </tr>\n",
       "    <tr>\n",
       "      <th>9</th>\n",
       "      <td>12 days</td>\n",
       "      <td>583.426359</td>\n",
       "      <td>492.713738</td>\n",
       "      <td>538.070049</td>\n",
       "      <td>90.712621</td>\n",
       "    </tr>\n",
       "    <tr>\n",
       "      <th>10</th>\n",
       "      <td>13 days</td>\n",
       "      <td>723.131152</td>\n",
       "      <td>523.678113</td>\n",
       "      <td>623.404632</td>\n",
       "      <td>199.453039</td>\n",
       "    </tr>\n",
       "    <tr>\n",
       "      <th>11</th>\n",
       "      <td>14 days</td>\n",
       "      <td>1046.921229</td>\n",
       "      <td>624.240967</td>\n",
       "      <td>835.581098</td>\n",
       "      <td>422.680261</td>\n",
       "    </tr>\n",
       "    <tr>\n",
       "      <th>12</th>\n",
       "      <td>15 days</td>\n",
       "      <td>1517.329614</td>\n",
       "      <td>795.133025</td>\n",
       "      <td>1156.23132</td>\n",
       "      <td>722.196588</td>\n",
       "    </tr>\n",
       "    <tr>\n",
       "      <th>13</th>\n",
       "      <td>16 days</td>\n",
       "      <td>1751.242602</td>\n",
       "      <td>898.826706</td>\n",
       "      <td>1325.034654</td>\n",
       "      <td>852.415896</td>\n",
       "    </tr>\n",
       "    <tr>\n",
       "      <th>14</th>\n",
       "      <td>17 days</td>\n",
       "      <td>1693.619502</td>\n",
       "      <td>907.018485</td>\n",
       "      <td>1300.318993</td>\n",
       "      <td>786.601017</td>\n",
       "    </tr>\n",
       "    <tr>\n",
       "      <th>15</th>\n",
       "      <td>18 days</td>\n",
       "      <td>1283.95832</td>\n",
       "      <td>732.047084</td>\n",
       "      <td>1008.002702</td>\n",
       "      <td>551.911236</td>\n",
       "    </tr>\n",
       "    <tr>\n",
       "      <th>16</th>\n",
       "      <td>19 days</td>\n",
       "      <td>781.56803</td>\n",
       "      <td>512.302834</td>\n",
       "      <td>646.935432</td>\n",
       "      <td>269.265196</td>\n",
       "    </tr>\n",
       "    <tr>\n",
       "      <th>17</th>\n",
       "      <td>20 days</td>\n",
       "      <td>556.766457</td>\n",
       "      <td>416.685316</td>\n",
       "      <td>486.725886</td>\n",
       "      <td>140.081141</td>\n",
       "    </tr>\n",
       "    <tr>\n",
       "      <th>18</th>\n",
       "      <td>21 days</td>\n",
       "      <td>602.356797</td>\n",
       "      <td>419.245523</td>\n",
       "      <td>510.80116</td>\n",
       "      <td>183.111274</td>\n",
       "    </tr>\n",
       "    <tr>\n",
       "      <th>19</th>\n",
       "      <td>22 days</td>\n",
       "      <td>740.797432</td>\n",
       "      <td>481.788341</td>\n",
       "      <td>611.292887</td>\n",
       "      <td>259.009091</td>\n",
       "    </tr>\n",
       "    <tr>\n",
       "      <th>20</th>\n",
       "      <td>23 days</td>\n",
       "      <td>991.462359</td>\n",
       "      <td>618.917926</td>\n",
       "      <td>805.190143</td>\n",
       "      <td>372.544433</td>\n",
       "    </tr>\n",
       "    <tr>\n",
       "      <th>21</th>\n",
       "      <td>24 days</td>\n",
       "      <td>1067.441073</td>\n",
       "      <td>724.804272</td>\n",
       "      <td>896.122673</td>\n",
       "      <td>342.636801</td>\n",
       "    </tr>\n",
       "    <tr>\n",
       "      <th>22</th>\n",
       "      <td>25 days</td>\n",
       "      <td>1094.840315</td>\n",
       "      <td>775.298619</td>\n",
       "      <td>935.069467</td>\n",
       "      <td>319.541695</td>\n",
       "    </tr>\n",
       "    <tr>\n",
       "      <th>23</th>\n",
       "      <td>26 days</td>\n",
       "      <td>1555.862142</td>\n",
       "      <td>861.269656</td>\n",
       "      <td>1208.565899</td>\n",
       "      <td>694.592486</td>\n",
       "    </tr>\n",
       "    <tr>\n",
       "      <th>24</th>\n",
       "      <td>27 days</td>\n",
       "      <td>1527.204863</td>\n",
       "      <td>812.674003</td>\n",
       "      <td>1169.939433</td>\n",
       "      <td>714.53086</td>\n",
       "    </tr>\n",
       "    <tr>\n",
       "      <th>25</th>\n",
       "      <td>28 days</td>\n",
       "      <td>1442.654169</td>\n",
       "      <td>673.466153</td>\n",
       "      <td>1058.060161</td>\n",
       "      <td>769.188016</td>\n",
       "    </tr>\n",
       "    <tr>\n",
       "      <th>26</th>\n",
       "      <td>29 days</td>\n",
       "      <td>669.462268</td>\n",
       "      <td>446.227238</td>\n",
       "      <td>557.844753</td>\n",
       "      <td>223.235029</td>\n",
       "    </tr>\n",
       "    <tr>\n",
       "      <th>27</th>\n",
       "      <td>30 days</td>\n",
       "      <td>646.680112</td>\n",
       "      <td>411.34944</td>\n",
       "      <td>529.014776</td>\n",
       "      <td>235.330672</td>\n",
       "    </tr>\n",
       "    <tr>\n",
       "      <th>media</th>\n",
       "      <td>NaT</td>\n",
       "      <td>935.867048</td>\n",
       "      <td>589.464373</td>\n",
       "      <td>762.66571</td>\n",
       "      <td>346.402676</td>\n",
       "    </tr>\n",
       "  </tbody>\n",
       "</table>\n",
       "</div>"
      ],
      "text/plain": [
       "      horizon         rmse         mae media_metricas diff_rmse_mae\n",
       "0      3 days   469.952814  393.305974     431.629394      76.64684\n",
       "1      4 days   609.381621  470.870181     540.125901    138.511441\n",
       "2      5 days   567.926762    403.9354     485.931081    163.991362\n",
       "3      6 days   624.955226  436.715283     530.835255    188.239942\n",
       "4      7 days   600.460528  439.986905     520.223717    160.473622\n",
       "5      8 days   670.145122  497.878641     584.011882     172.26648\n",
       "6      9 days   803.299385  554.961189     679.130287    248.338196\n",
       "7     10 days   793.638418  576.709957     685.174187    216.928461\n",
       "8     11 days   787.792683  602.951458     695.372071    184.841225\n",
       "9     12 days   583.426359  492.713738     538.070049     90.712621\n",
       "10    13 days   723.131152  523.678113     623.404632    199.453039\n",
       "11    14 days  1046.921229  624.240967     835.581098    422.680261\n",
       "12    15 days  1517.329614  795.133025     1156.23132    722.196588\n",
       "13    16 days  1751.242602  898.826706    1325.034654    852.415896\n",
       "14    17 days  1693.619502  907.018485    1300.318993    786.601017\n",
       "15    18 days   1283.95832  732.047084    1008.002702    551.911236\n",
       "16    19 days    781.56803  512.302834     646.935432    269.265196\n",
       "17    20 days   556.766457  416.685316     486.725886    140.081141\n",
       "18    21 days   602.356797  419.245523      510.80116    183.111274\n",
       "19    22 days   740.797432  481.788341     611.292887    259.009091\n",
       "20    23 days   991.462359  618.917926     805.190143    372.544433\n",
       "21    24 days  1067.441073  724.804272     896.122673    342.636801\n",
       "22    25 days  1094.840315  775.298619     935.069467    319.541695\n",
       "23    26 days  1555.862142  861.269656    1208.565899    694.592486\n",
       "24    27 days  1527.204863  812.674003    1169.939433     714.53086\n",
       "25    28 days  1442.654169  673.466153    1058.060161    769.188016\n",
       "26    29 days   669.462268  446.227238     557.844753    223.235029\n",
       "27    30 days   646.680112   411.34944     529.014776    235.330672\n",
       "media     NaT   935.867048  589.464373      762.66571    346.402676"
      ]
     },
     "execution_count": 55,
     "metadata": {},
     "output_type": "execute_result"
    }
   ],
   "source": [
    "modelo_casos_simples = Modelo_prophet_semanal(dados_casos, holiday=False)\n",
    "modelo_casos_simples.c_valid(initial='180 days', period='30 days', horizon='30 days')\n",
    "modelo_casos_simples.metricas()\n",
    "modelo_casos_simples.metricas"
   ]
  },
  {
   "cell_type": "code",
   "execution_count": 49,
   "id": "16ef5682-3865-43eb-a110-d73aacbccd0f",
   "metadata": {},
   "outputs": [],
   "source": [
    "df_feriados = pd.DataFrame()"
   ]
  },
  {
   "cell_type": "code",
   "execution_count": 50,
   "id": "20a41d69-f222-4622-a018-28aecc563427",
   "metadata": {},
   "outputs": [],
   "source": [
    "df_feriados['ds'] = pd.to_datetime(feriados)"
   ]
  },
  {
   "cell_type": "code",
   "execution_count": 51,
   "id": "321bc76f-180e-4956-b660-0966c43b1804",
   "metadata": {},
   "outputs": [],
   "source": [
    "df_feriados['holiday'] = 'Feriado_rj'"
   ]
  },
  {
   "cell_type": "code",
   "execution_count": 52,
   "id": "51f0ad8d-fe4c-4b57-af62-42092e3922d0",
   "metadata": {},
   "outputs": [
    {
     "data": {
      "application/vnd.jupyter.widget-view+json": {
       "model_id": "da0e4b9b3de1407996aef2b4caa02bea",
       "version_major": 2,
       "version_minor": 0
      },
      "text/plain": [
       "  0%|          | 0/9 [00:00<?, ?it/s]"
      ]
     },
     "metadata": {},
     "output_type": "display_data"
    },
    {
     "data": {
      "text/html": [
       "<div>\n",
       "<style scoped>\n",
       "    .dataframe tbody tr th:only-of-type {\n",
       "        vertical-align: middle;\n",
       "    }\n",
       "\n",
       "    .dataframe tbody tr th {\n",
       "        vertical-align: top;\n",
       "    }\n",
       "\n",
       "    .dataframe thead th {\n",
       "        text-align: right;\n",
       "    }\n",
       "</style>\n",
       "<table border=\"1\" class=\"dataframe\">\n",
       "  <thead>\n",
       "    <tr style=\"text-align: right;\">\n",
       "      <th></th>\n",
       "      <th>horizon</th>\n",
       "      <th>rmse</th>\n",
       "      <th>mae</th>\n",
       "      <th>media_metricas</th>\n",
       "      <th>diff_rmse_mae</th>\n",
       "    </tr>\n",
       "  </thead>\n",
       "  <tbody>\n",
       "    <tr>\n",
       "      <th>0</th>\n",
       "      <td>3 days</td>\n",
       "      <td>471.376384</td>\n",
       "      <td>395.217192</td>\n",
       "      <td>433.296788</td>\n",
       "      <td>76.159192</td>\n",
       "    </tr>\n",
       "    <tr>\n",
       "      <th>1</th>\n",
       "      <td>4 days</td>\n",
       "      <td>607.046599</td>\n",
       "      <td>463.192222</td>\n",
       "      <td>535.11941</td>\n",
       "      <td>143.854376</td>\n",
       "    </tr>\n",
       "    <tr>\n",
       "      <th>2</th>\n",
       "      <td>5 days</td>\n",
       "      <td>566.63199</td>\n",
       "      <td>397.883422</td>\n",
       "      <td>482.257706</td>\n",
       "      <td>168.748568</td>\n",
       "    </tr>\n",
       "    <tr>\n",
       "      <th>3</th>\n",
       "      <td>6 days</td>\n",
       "      <td>622.690525</td>\n",
       "      <td>430.757976</td>\n",
       "      <td>526.72425</td>\n",
       "      <td>191.932549</td>\n",
       "    </tr>\n",
       "    <tr>\n",
       "      <th>4</th>\n",
       "      <td>7 days</td>\n",
       "      <td>599.969958</td>\n",
       "      <td>443.431799</td>\n",
       "      <td>521.700878</td>\n",
       "      <td>156.538159</td>\n",
       "    </tr>\n",
       "    <tr>\n",
       "      <th>5</th>\n",
       "      <td>8 days</td>\n",
       "      <td>667.108503</td>\n",
       "      <td>499.718967</td>\n",
       "      <td>583.413735</td>\n",
       "      <td>167.389535</td>\n",
       "    </tr>\n",
       "    <tr>\n",
       "      <th>6</th>\n",
       "      <td>9 days</td>\n",
       "      <td>798.245954</td>\n",
       "      <td>552.375532</td>\n",
       "      <td>675.310743</td>\n",
       "      <td>245.870423</td>\n",
       "    </tr>\n",
       "    <tr>\n",
       "      <th>7</th>\n",
       "      <td>10 days</td>\n",
       "      <td>785.049605</td>\n",
       "      <td>559.838683</td>\n",
       "      <td>672.444144</td>\n",
       "      <td>225.210922</td>\n",
       "    </tr>\n",
       "    <tr>\n",
       "      <th>8</th>\n",
       "      <td>11 days</td>\n",
       "      <td>780.765653</td>\n",
       "      <td>585.952891</td>\n",
       "      <td>683.359272</td>\n",
       "      <td>194.812762</td>\n",
       "    </tr>\n",
       "    <tr>\n",
       "      <th>9</th>\n",
       "      <td>12 days</td>\n",
       "      <td>580.400904</td>\n",
       "      <td>479.995779</td>\n",
       "      <td>530.198341</td>\n",
       "      <td>100.405124</td>\n",
       "    </tr>\n",
       "    <tr>\n",
       "      <th>10</th>\n",
       "      <td>13 days</td>\n",
       "      <td>716.155442</td>\n",
       "      <td>510.291487</td>\n",
       "      <td>613.223464</td>\n",
       "      <td>205.863955</td>\n",
       "    </tr>\n",
       "    <tr>\n",
       "      <th>11</th>\n",
       "      <td>14 days</td>\n",
       "      <td>1041.810579</td>\n",
       "      <td>609.218131</td>\n",
       "      <td>825.514355</td>\n",
       "      <td>432.592448</td>\n",
       "    </tr>\n",
       "    <tr>\n",
       "      <th>12</th>\n",
       "      <td>15 days</td>\n",
       "      <td>1519.706989</td>\n",
       "      <td>783.715186</td>\n",
       "      <td>1151.711088</td>\n",
       "      <td>735.991803</td>\n",
       "    </tr>\n",
       "    <tr>\n",
       "      <th>13</th>\n",
       "      <td>16 days</td>\n",
       "      <td>1759.721848</td>\n",
       "      <td>895.67453</td>\n",
       "      <td>1327.698189</td>\n",
       "      <td>864.047318</td>\n",
       "    </tr>\n",
       "    <tr>\n",
       "      <th>14</th>\n",
       "      <td>17 days</td>\n",
       "      <td>1704.246831</td>\n",
       "      <td>907.194475</td>\n",
       "      <td>1305.720653</td>\n",
       "      <td>797.052356</td>\n",
       "    </tr>\n",
       "    <tr>\n",
       "      <th>15</th>\n",
       "      <td>18 days</td>\n",
       "      <td>1292.013344</td>\n",
       "      <td>734.195325</td>\n",
       "      <td>1013.104334</td>\n",
       "      <td>557.818019</td>\n",
       "    </tr>\n",
       "    <tr>\n",
       "      <th>16</th>\n",
       "      <td>19 days</td>\n",
       "      <td>784.838462</td>\n",
       "      <td>510.480821</td>\n",
       "      <td>647.659641</td>\n",
       "      <td>274.357642</td>\n",
       "    </tr>\n",
       "    <tr>\n",
       "      <th>17</th>\n",
       "      <td>20 days</td>\n",
       "      <td>560.266262</td>\n",
       "      <td>416.752098</td>\n",
       "      <td>488.50918</td>\n",
       "      <td>143.514163</td>\n",
       "    </tr>\n",
       "    <tr>\n",
       "      <th>18</th>\n",
       "      <td>21 days</td>\n",
       "      <td>605.438608</td>\n",
       "      <td>415.104123</td>\n",
       "      <td>510.271365</td>\n",
       "      <td>190.334485</td>\n",
       "    </tr>\n",
       "    <tr>\n",
       "      <th>19</th>\n",
       "      <td>22 days</td>\n",
       "      <td>749.750875</td>\n",
       "      <td>478.730805</td>\n",
       "      <td>614.24084</td>\n",
       "      <td>271.02007</td>\n",
       "    </tr>\n",
       "    <tr>\n",
       "      <th>20</th>\n",
       "      <td>23 days</td>\n",
       "      <td>1003.40165</td>\n",
       "      <td>624.514631</td>\n",
       "      <td>813.958141</td>\n",
       "      <td>378.887019</td>\n",
       "    </tr>\n",
       "    <tr>\n",
       "      <th>21</th>\n",
       "      <td>24 days</td>\n",
       "      <td>1081.344916</td>\n",
       "      <td>735.177887</td>\n",
       "      <td>908.261401</td>\n",
       "      <td>346.167029</td>\n",
       "    </tr>\n",
       "    <tr>\n",
       "      <th>22</th>\n",
       "      <td>25 days</td>\n",
       "      <td>1098.358592</td>\n",
       "      <td>782.256101</td>\n",
       "      <td>940.307346</td>\n",
       "      <td>316.102491</td>\n",
       "    </tr>\n",
       "    <tr>\n",
       "      <th>23</th>\n",
       "      <td>26 days</td>\n",
       "      <td>1574.710622</td>\n",
       "      <td>867.182167</td>\n",
       "      <td>1220.946395</td>\n",
       "      <td>707.528456</td>\n",
       "    </tr>\n",
       "    <tr>\n",
       "      <th>24</th>\n",
       "      <td>27 days</td>\n",
       "      <td>1542.619693</td>\n",
       "      <td>811.986411</td>\n",
       "      <td>1177.303052</td>\n",
       "      <td>730.633282</td>\n",
       "    </tr>\n",
       "    <tr>\n",
       "      <th>25</th>\n",
       "      <td>28 days</td>\n",
       "      <td>1466.1396</td>\n",
       "      <td>682.019477</td>\n",
       "      <td>1074.079539</td>\n",
       "      <td>784.120122</td>\n",
       "    </tr>\n",
       "    <tr>\n",
       "      <th>26</th>\n",
       "      <td>29 days</td>\n",
       "      <td>673.901774</td>\n",
       "      <td>452.879927</td>\n",
       "      <td>563.39085</td>\n",
       "      <td>221.021847</td>\n",
       "    </tr>\n",
       "    <tr>\n",
       "      <th>27</th>\n",
       "      <td>30 days</td>\n",
       "      <td>652.233359</td>\n",
       "      <td>420.29737</td>\n",
       "      <td>536.265365</td>\n",
       "      <td>231.935989</td>\n",
       "    </tr>\n",
       "    <tr>\n",
       "      <th>media</th>\n",
       "      <td>NaT</td>\n",
       "      <td>939.498054</td>\n",
       "      <td>587.358408</td>\n",
       "      <td>763.428231</td>\n",
       "      <td>352.139647</td>\n",
       "    </tr>\n",
       "  </tbody>\n",
       "</table>\n",
       "</div>"
      ],
      "text/plain": [
       "      horizon         rmse         mae media_metricas diff_rmse_mae\n",
       "0      3 days   471.376384  395.217192     433.296788     76.159192\n",
       "1      4 days   607.046599  463.192222      535.11941    143.854376\n",
       "2      5 days    566.63199  397.883422     482.257706    168.748568\n",
       "3      6 days   622.690525  430.757976      526.72425    191.932549\n",
       "4      7 days   599.969958  443.431799     521.700878    156.538159\n",
       "5      8 days   667.108503  499.718967     583.413735    167.389535\n",
       "6      9 days   798.245954  552.375532     675.310743    245.870423\n",
       "7     10 days   785.049605  559.838683     672.444144    225.210922\n",
       "8     11 days   780.765653  585.952891     683.359272    194.812762\n",
       "9     12 days   580.400904  479.995779     530.198341    100.405124\n",
       "10    13 days   716.155442  510.291487     613.223464    205.863955\n",
       "11    14 days  1041.810579  609.218131     825.514355    432.592448\n",
       "12    15 days  1519.706989  783.715186    1151.711088    735.991803\n",
       "13    16 days  1759.721848   895.67453    1327.698189    864.047318\n",
       "14    17 days  1704.246831  907.194475    1305.720653    797.052356\n",
       "15    18 days  1292.013344  734.195325    1013.104334    557.818019\n",
       "16    19 days   784.838462  510.480821     647.659641    274.357642\n",
       "17    20 days   560.266262  416.752098      488.50918    143.514163\n",
       "18    21 days   605.438608  415.104123     510.271365    190.334485\n",
       "19    22 days   749.750875  478.730805      614.24084     271.02007\n",
       "20    23 days   1003.40165  624.514631     813.958141    378.887019\n",
       "21    24 days  1081.344916  735.177887     908.261401    346.167029\n",
       "22    25 days  1098.358592  782.256101     940.307346    316.102491\n",
       "23    26 days  1574.710622  867.182167    1220.946395    707.528456\n",
       "24    27 days  1542.619693  811.986411    1177.303052    730.633282\n",
       "25    28 days    1466.1396  682.019477    1074.079539    784.120122\n",
       "26    29 days   673.901774  452.879927      563.39085    221.021847\n",
       "27    30 days   652.233359   420.29737     536.265365    231.935989\n",
       "media     NaT   939.498054  587.358408     763.428231    352.139647"
      ]
     },
     "execution_count": 52,
     "metadata": {},
     "output_type": "execute_result"
    }
   ],
   "source": [
    "modelo_casos_simples = Modelo_prophet_semanal(dados_casos, holiday=False, holidays=df_feriados)\n",
    "modelo_casos_simples.c_valid(initial='180 days', period='30 days', horizon='30 days')\n",
    "modelo_casos_simples.metricas()\n",
    "modelo_casos_simples.metricas"
   ]
  },
  {
   "cell_type": "code",
   "execution_count": null,
   "id": "02a30973-41a4-4582-b923-d2ba1941b612",
   "metadata": {},
   "outputs": [],
   "source": []
  },
  {
   "cell_type": "markdown",
   "id": "5ae47f0b-b8fd-4f0b-9558-382ab92f73db",
   "metadata": {},
   "source": [
    "## 6.4 - Modelo para previsão de óbitos por COVID-19 no Brasil"
   ]
  },
  {
   "cell_type": "markdown",
   "id": "da2a9a3c-c721-4a37-b9f6-f56a1cc68033",
   "metadata": {},
   "source": [
    "### 6.4.1 - Problema a ser resolvido"
   ]
  },
  {
   "cell_type": "code",
   "execution_count": null,
   "id": "266c5582-0e87-4a0e-8bc7-29b0b4c1fd06",
   "metadata": {},
   "outputs": [],
   "source": []
  },
  {
   "cell_type": "code",
   "execution_count": null,
   "id": "8b6462c3-9878-402f-ae35-fec59795992e",
   "metadata": {},
   "outputs": [],
   "source": []
  },
  {
   "cell_type": "markdown",
   "id": "272621bc-da93-4a23-ae99-263c8647084a",
   "metadata": {},
   "source": [
    "### 6.4.2 - Modelo mais simples"
   ]
  },
  {
   "cell_type": "markdown",
   "id": "ec36fd61-d42d-4919-9a49-f184464c778e",
   "metadata": {},
   "source": [
    "A fim de ter um ponto de partida como referência para realizar as melhoras do modelo será criado o modelo mais simples possível pelo Prophet a partir dos dados de óbitos novos por dia de COVID-19 no Brasil."
   ]
  },
  {
   "cell_type": "code",
   "execution_count": 17,
   "id": "d8253e72-853a-4f56-a6d8-59e89e73ebee",
   "metadata": {},
   "outputs": [],
   "source": [
    "dados_obitos = dados_br[['date', 'obitos_novos']]\n",
    "dados_obitos.columns = ['ds', 'y']"
   ]
  },
  {
   "cell_type": "code",
   "execution_count": 18,
   "id": "fb17ae57-823b-4e2a-be8e-914a16fe9ccf",
   "metadata": {},
   "outputs": [
    {
     "data": {
      "application/vnd.jupyter.widget-view+json": {
       "model_id": "53d23b96d0254018807e1056c49bac59",
       "version_major": 2,
       "version_minor": 0
      },
      "text/plain": [
       "  0%|          | 0/41 [00:00<?, ?it/s]"
      ]
     },
     "metadata": {},
     "output_type": "display_data"
    },
    {
     "data": {
      "text/html": [
       "<div>\n",
       "<style scoped>\n",
       "    .dataframe tbody tr th:only-of-type {\n",
       "        vertical-align: middle;\n",
       "    }\n",
       "\n",
       "    .dataframe tbody tr th {\n",
       "        vertical-align: top;\n",
       "    }\n",
       "\n",
       "    .dataframe thead th {\n",
       "        text-align: right;\n",
       "    }\n",
       "</style>\n",
       "<table border=\"1\" class=\"dataframe\">\n",
       "  <thead>\n",
       "    <tr style=\"text-align: right;\">\n",
       "      <th></th>\n",
       "      <th>horizon</th>\n",
       "      <th>rmse</th>\n",
       "      <th>mae</th>\n",
       "      <th>media_metricas</th>\n",
       "      <th>diff_rmse_mae</th>\n",
       "    </tr>\n",
       "  </thead>\n",
       "  <tbody>\n",
       "    <tr>\n",
       "      <th>0</th>\n",
       "      <td>1 days</td>\n",
       "      <td>26.640353</td>\n",
       "      <td>20.268382</td>\n",
       "      <td>23.454368</td>\n",
       "      <td>6.371971</td>\n",
       "    </tr>\n",
       "    <tr>\n",
       "      <th>1</th>\n",
       "      <td>2 days</td>\n",
       "      <td>51.916878</td>\n",
       "      <td>41.791095</td>\n",
       "      <td>46.853987</td>\n",
       "      <td>10.125784</td>\n",
       "    </tr>\n",
       "    <tr>\n",
       "      <th>2</th>\n",
       "      <td>3 days</td>\n",
       "      <td>42.807477</td>\n",
       "      <td>32.762245</td>\n",
       "      <td>37.784861</td>\n",
       "      <td>10.045233</td>\n",
       "    </tr>\n",
       "    <tr>\n",
       "      <th>3</th>\n",
       "      <td>4 days</td>\n",
       "      <td>44.392795</td>\n",
       "      <td>32.791724</td>\n",
       "      <td>38.592259</td>\n",
       "      <td>11.601071</td>\n",
       "    </tr>\n",
       "    <tr>\n",
       "      <th>4</th>\n",
       "      <td>5 days</td>\n",
       "      <td>42.632687</td>\n",
       "      <td>34.524438</td>\n",
       "      <td>38.578562</td>\n",
       "      <td>8.108249</td>\n",
       "    </tr>\n",
       "    <tr>\n",
       "      <th>5</th>\n",
       "      <td>6 days</td>\n",
       "      <td>65.729803</td>\n",
       "      <td>39.291337</td>\n",
       "      <td>52.51057</td>\n",
       "      <td>26.438466</td>\n",
       "    </tr>\n",
       "    <tr>\n",
       "      <th>6</th>\n",
       "      <td>7 days</td>\n",
       "      <td>28.87505</td>\n",
       "      <td>20.889659</td>\n",
       "      <td>24.882355</td>\n",
       "      <td>7.985391</td>\n",
       "    </tr>\n",
       "    <tr>\n",
       "      <th>media</th>\n",
       "      <td>NaT</td>\n",
       "      <td>43.285006</td>\n",
       "      <td>31.75984</td>\n",
       "      <td>37.522423</td>\n",
       "      <td>11.525166</td>\n",
       "    </tr>\n",
       "  </tbody>\n",
       "</table>\n",
       "</div>"
      ],
      "text/plain": [
       "      horizon       rmse        mae media_metricas diff_rmse_mae\n",
       "0      1 days  26.640353  20.268382      23.454368      6.371971\n",
       "1      2 days  51.916878  41.791095      46.853987     10.125784\n",
       "2      3 days  42.807477  32.762245      37.784861     10.045233\n",
       "3      4 days  44.392795  32.791724      38.592259     11.601071\n",
       "4      5 days  42.632687  34.524438      38.578562      8.108249\n",
       "5      6 days  65.729803  39.291337       52.51057     26.438466\n",
       "6      7 days   28.87505  20.889659      24.882355      7.985391\n",
       "media     NaT  43.285006   31.75984      37.522423     11.525166"
      ]
     },
     "execution_count": 18,
     "metadata": {},
     "output_type": "execute_result"
    }
   ],
   "source": [
    "modelo_obitos_simples = Modelo_prophet_semanal(dados_obitos)\n",
    "modelo_obitos_simples.c_valid(initial='180 days', period='7 days', horizon='7 days')\n",
    "modelo_obitos_simples.metricas()\n",
    "modelo_obitos_simples.metricas"
   ]
  },
  {
   "cell_type": "code",
   "execution_count": null,
   "id": "fc36547e-5314-453a-ad4d-7fadd03963ed",
   "metadata": {},
   "outputs": [],
   "source": []
  },
  {
   "cell_type": "code",
   "execution_count": null,
   "id": "a393b221-fbd6-45bf-9e82-9a598a49d51c",
   "metadata": {},
   "outputs": [],
   "source": []
  },
  {
   "cell_type": "code",
   "execution_count": null,
   "id": "bdf9f3ef-baf7-4440-ab15-02c2627c7fcb",
   "metadata": {},
   "outputs": [],
   "source": []
  }
 ],
 "metadata": {
  "kernelspec": {
   "display_name": "Python 3",
   "language": "python",
   "name": "python3"
  },
  "language_info": {
   "codemirror_mode": {
    "name": "ipython",
    "version": 3
   },
   "file_extension": ".py",
   "mimetype": "text/x-python",
   "name": "python",
   "nbconvert_exporter": "python",
   "pygments_lexer": "ipython3",
   "version": "3.7.6"
  }
 },
 "nbformat": 4,
 "nbformat_minor": 5
}
